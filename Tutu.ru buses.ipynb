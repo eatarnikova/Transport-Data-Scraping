{
 "cells": [
  {
   "cell_type": "code",
   "execution_count": 2,
   "metadata": {},
   "outputs": [],
   "source": [
    "import pandas as pd\n",
    "from selenium import webdriver as wb\n",
    "from bs4 import BeautifulSoup\n",
    "import requests\n",
    "from time import sleep\n",
    "import numpy as np\n",
    "from tqdm import tqdm"
   ]
  },
  {
   "cell_type": "code",
   "execution_count": 2,
   "metadata": {},
   "outputs": [],
   "source": [
    "data = pd.read_excel('Discrete Choice Data/Data/Parsing/data_model_V2.xlsx')\n",
    "data = data[(data.transport_type == 'Автомобильный') & (data.price.isna())]"
   ]
  },
  {
   "cell_type": "code",
   "execution_count": 7,
   "metadata": {},
   "outputs": [
    {
     "data": {
      "text/plain": [
       "[('Абакан', 'Ачинск'),\n",
       " ('Абакан', 'Ачинск'),\n",
       " ('Абакан', 'Кемерово'),\n",
       " ('Абакан', 'Кемерово'),\n",
       " ('Абакан', 'Копьево')]"
      ]
     },
     "execution_count": 7,
     "metadata": {},
     "output_type": "execute_result"
    }
   ],
   "source": [
    "bus_pairs = list(zip(data.source_tc, data.target_tc))\n",
    "bus_pairs[0:5]"
   ]
  },
  {
   "cell_type": "code",
   "execution_count": null,
   "metadata": {
    "scrolled": true
   },
   "outputs": [],
   "source": [
    "from tqdm import tqdm\n",
    "\n",
    "data_buses = []\n",
    "errors = []\n",
    "for idx, row in tqdm(bus_pairs.iterrows()):\n",
    "    dep_name = row[\"departure_city_name\"]\n",
    "    arr_name = row[\"arrival_city_name\"]\n",
    "    dep_id = row[\"departure_city_id\"]\n",
    "    arr_id = row[\"arrival_city_id\"]\n",
    "#     time = []\n",
    "#     price = []\n",
    "    link = f\"https://bus.tutu.ru/расписание_автобусов/{dep_name}/{arr_name}/?from={dep_id}&to={arr_id}&amount=1\"\n",
    "    url = requests.get(link).text\n",
    "    soup = BeautifulSoup(url,'lxml')\n",
    "    \n",
    "    try:\n",
    "    \n",
    "        time =  soup.find('span', {'data-ti': \"duration\"}).text\n",
    "        price = soup.find('span', {'class': \"index__price___3IUNa\"}).text\n",
    "\n",
    "        row_vals = { \n",
    "            'source_tc': dep_name,\n",
    "            'target_tc': arr_name,\n",
    "            'time': time,\n",
    "            'price': price\n",
    "        }\n",
    "\n",
    "        data_buses.append(row_vals)\n",
    "\n",
    "    except: errors.append([row[\"departure_city_name\"], row[\"arrival_city_name\"], \n",
    "                           row[\"departure_city_id\"], row[\"arrival_city_id\"]])\n",
    "    "
   ]
  },
  {
   "cell_type": "code",
   "execution_count": 23,
   "metadata": {},
   "outputs": [],
   "source": [
    "link = 'https://bus.tutu.ru/расписание_автобусов/Владивосток/Хабаровск/?from=1297864&to=1315652&amount=1'\n",
    "url = requests.get(link).text\n",
    "soup = BeautifulSoup(url,'lxml')"
   ]
  },
  {
   "cell_type": "code",
   "execution_count": 26,
   "metadata": {},
   "outputs": [
    {
     "data": {
      "text/plain": [
       "'от 3188 ₽'"
      ]
     },
     "execution_count": 26,
     "metadata": {},
     "output_type": "execute_result"
    }
   ],
   "source": [
    "soup.find('span', {'class': \"index__price___3IUNa\"}).text"
   ]
  },
  {
   "cell_type": "code",
   "execution_count": null,
   "metadata": {},
   "outputs": [],
   "source": [
    "minutes = []\n",
    "for time_val in df_buses.time:\n",
    "    if 'ч' in str(time_val):\n",
    "        l = time_val.split(' ')\n",
    "        if len(l) > 2:\n",
    "            minutes.append((int(l[0]) * 60) + int(l[2]))\n",
    "        else:\n",
    "            minutes.append((int(l[0]) * 60))\n",
    "    else:\n",
    "        try:\n",
    "            l = time_val.split(' ')\n",
    "            minutes.append((int(l[0])))\n",
    "        except: minutes.append(np.nan)"
   ]
  },
  {
   "cell_type": "code",
   "execution_count": 38,
   "metadata": {
    "scrolled": true
   },
   "outputs": [
    {
     "data": {
      "text/html": [
       "<div>\n",
       "<style scoped>\n",
       "    .dataframe tbody tr th:only-of-type {\n",
       "        vertical-align: middle;\n",
       "    }\n",
       "\n",
       "    .dataframe tbody tr th {\n",
       "        vertical-align: top;\n",
       "    }\n",
       "\n",
       "    .dataframe thead th {\n",
       "        text-align: right;\n",
       "    }\n",
       "</style>\n",
       "<table border=\"1\" class=\"dataframe\">\n",
       "  <thead>\n",
       "    <tr style=\"text-align: right;\">\n",
       "      <th></th>\n",
       "      <th>source_tc</th>\n",
       "      <th>target_tc</th>\n",
       "      <th>time</th>\n",
       "      <th>price</th>\n",
       "      <th>minutes</th>\n",
       "    </tr>\n",
       "  </thead>\n",
       "  <tbody>\n",
       "    <tr>\n",
       "      <th>0</th>\n",
       "      <td>Владивосток</td>\n",
       "      <td>Хабаровск</td>\n",
       "      <td>15 ч 29 м</td>\n",
       "      <td>3188</td>\n",
       "      <td>929.0</td>\n",
       "    </tr>\n",
       "    <tr>\n",
       "      <th>1</th>\n",
       "      <td>Райчихинск</td>\n",
       "      <td>Благовещенск</td>\n",
       "      <td>2 ч 30 м</td>\n",
       "      <td>573</td>\n",
       "      <td>150.0</td>\n",
       "    </tr>\n",
       "    <tr>\n",
       "      <th>2</th>\n",
       "      <td>Томск</td>\n",
       "      <td>Барнаул</td>\n",
       "      <td>9 ч 30 м</td>\n",
       "      <td>1745</td>\n",
       "      <td>570.0</td>\n",
       "    </tr>\n",
       "    <tr>\n",
       "      <th>3</th>\n",
       "      <td>Томск</td>\n",
       "      <td>Яровое</td>\n",
       "      <td>12 ч</td>\n",
       "      <td>2215</td>\n",
       "      <td>720.0</td>\n",
       "    </tr>\n",
       "    <tr>\n",
       "      <th>4</th>\n",
       "      <td>Томск</td>\n",
       "      <td>Красноярск</td>\n",
       "      <td>10 ч 45 м</td>\n",
       "      <td>1566</td>\n",
       "      <td>645.0</td>\n",
       "    </tr>\n",
       "    <tr>\n",
       "      <th>...</th>\n",
       "      <td>...</td>\n",
       "      <td>...</td>\n",
       "      <td>...</td>\n",
       "      <td>...</td>\n",
       "      <td>...</td>\n",
       "    </tr>\n",
       "    <tr>\n",
       "      <th>158</th>\n",
       "      <td>Севастополь</td>\n",
       "      <td>Воронеж</td>\n",
       "      <td>28 ч 20 м</td>\n",
       "      <td>4372</td>\n",
       "      <td>1700.0</td>\n",
       "    </tr>\n",
       "    <tr>\n",
       "      <th>159</th>\n",
       "      <td>Севастополь</td>\n",
       "      <td>Астрахань</td>\n",
       "      <td>27 ч 55 м</td>\n",
       "      <td>3798</td>\n",
       "      <td>1675.0</td>\n",
       "    </tr>\n",
       "    <tr>\n",
       "      <th>160</th>\n",
       "      <td>Севастополь</td>\n",
       "      <td>Москва</td>\n",
       "      <td>31 ч</td>\n",
       "      <td>3526</td>\n",
       "      <td>1860.0</td>\n",
       "    </tr>\n",
       "    <tr>\n",
       "      <th>161</th>\n",
       "      <td>Нижневартовск</td>\n",
       "      <td>Уфа</td>\n",
       "      <td>27 ч</td>\n",
       "      <td>4176</td>\n",
       "      <td>1620.0</td>\n",
       "    </tr>\n",
       "    <tr>\n",
       "      <th>162</th>\n",
       "      <td>Ханты-Мансийск</td>\n",
       "      <td>Курган</td>\n",
       "      <td>15 ч 35 м</td>\n",
       "      <td>2560</td>\n",
       "      <td>935.0</td>\n",
       "    </tr>\n",
       "  </tbody>\n",
       "</table>\n",
       "<p>163 rows × 5 columns</p>\n",
       "</div>"
      ],
      "text/plain": [
       "          source_tc     target_tc       time price  minutes\n",
       "0       Владивосток     Хабаровск  15 ч 29 м  3188    929.0\n",
       "1        Райчихинск  Благовещенск   2 ч 30 м   573    150.0\n",
       "2             Томск       Барнаул   9 ч 30 м  1745    570.0\n",
       "3             Томск        Яровое       12 ч  2215    720.0\n",
       "4             Томск    Красноярск  10 ч 45 м  1566    645.0\n",
       "..              ...           ...        ...   ...      ...\n",
       "158     Севастополь       Воронеж  28 ч 20 м  4372   1700.0\n",
       "159     Севастополь     Астрахань  27 ч 55 м  3798   1675.0\n",
       "160     Севастополь        Москва       31 ч  3526   1860.0\n",
       "161   Нижневартовск           Уфа       27 ч  4176   1620.0\n",
       "162  Ханты-Мансийск        Курган  15 ч 35 м  2560    935.0\n",
       "\n",
       "[163 rows x 5 columns]"
      ]
     },
     "execution_count": 38,
     "metadata": {},
     "output_type": "execute_result"
    }
   ],
   "source": [
    "df_buses['price'] = df_buses['price'].str.split(' ').str[1]\n",
    "df_buses['minutes'] = minutes\n",
    "df_buses"
   ]
  },
  {
   "cell_type": "code",
   "execution_count": 39,
   "metadata": {},
   "outputs": [],
   "source": [
    "df_buses.to_excel('tutu_busesV2.xlsx')"
   ]
  }
 ],
 "metadata": {
  "kernelspec": {
   "display_name": "Python 3",
   "language": "python",
   "name": "python3"
  },
  "language_info": {
   "codemirror_mode": {
    "name": "ipython",
    "version": 3
   },
   "file_extension": ".py",
   "mimetype": "text/x-python",
   "name": "python",
   "nbconvert_exporter": "python",
   "pygments_lexer": "ipython3",
   "version": "3.7.4"
  }
 },
 "nbformat": 4,
 "nbformat_minor": 4
}
