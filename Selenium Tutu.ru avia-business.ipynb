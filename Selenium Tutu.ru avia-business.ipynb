{
 "cells": [
  {
   "cell_type": "code",
   "execution_count": null,
   "metadata": {},
   "outputs": [],
   "source": [
    "import requests\n",
    "import numpy as np\n",
    "import pandas as pd\n",
    "\n",
    "from selenium import webdriver as wb\n",
    "from bs4 import BeautifulSoup\n",
    "from time import sleep\n",
    "from tqdm import tqdm"
   ]
  },
  {
   "cell_type": "code",
   "execution_count": null,
   "metadata": {},
   "outputs": [],
   "source": [
    "avia = pd.read_excel('Discrete Choice Data/Data/Parsing/aviasales_data.xlsx')"
   ]
  },
  {
   "cell_type": "code",
   "execution_count": null,
   "metadata": {},
   "outputs": [],
   "source": [
    "avia_pairs = list(zip(avia.TC_from, avia.TC_to))"
   ]
  },
  {
   "cell_type": "code",
   "execution_count": null,
   "metadata": {},
   "outputs": [],
   "source": [
    "len(avia_pairs)"
   ]
  },
  {
   "cell_type": "code",
   "execution_count": null,
   "metadata": {},
   "outputs": [],
   "source": [
    "price_list = []\n",
    "for pair in tqdm(avia_pairs):\n",
    "    br = wb.Chrome('/Users/eugenia/Downloads/chromedriver')\n",
    "    br.get('https://www.tutu.ru')\n",
    "    from_port = br.find_element_by_name('city_from')\n",
    "    from_port.send_keys(pair[0])\n",
    "    to_port = br.find_element_by_name('city_to')\n",
    "    to_port.send_keys(pair[1])\n",
    "    dropdown_date = br.find_element_by_xpath('/html/body/div[3]/div[1]/div[5]/div/div[1]/div/div[2]/div[4]/div[1]/input')\n",
    "    dropdown_date.click()\n",
    "    br.find_element_by_xpath('/html/body/div[3]/div[1]/div[5]/div/div[1]/div/div[9]/div/table/tbody/tr[2]/td[5]/a').click()\n",
    "    br.find_element_by_xpath('/html/body/div[3]/div[1]/div[5]/div/div[1]/div/div[2]/div[4]/div[2]/label/input').click()\n",
    "    dropdown_class = br.find_element_by_xpath('//*[@id=\"wrapper\"]/div[1]/div[5]/div/div[1]/div/div[7]/div/div[2]/div/div[1]')\n",
    "    dropdown_class.click()\n",
    "    br.find_element_by_xpath(\"/html/body/div[3]/div[1]/div[5]/div/div[1]/div/div[7]/div/div[2]/div/div[2]/div/ul/li[2]\").click()\n",
    "    sleep(0.5)\n",
    "    br.find_element_by_xpath('/html/body/div[3]/div[1]/div[5]/div/div[1]/div/div[2]/div[7]/button/span/span[3]').click()\n",
    "    sleep(3)\n",
    "    try:\n",
    "        br.get(br.current_url + 'f-changes=direct')\n",
    "        sleep(0.5)\n",
    "        price = br.find_element_by_xpath('/html/body/div[2]/div/div[3]/div/div[2]/div/div/div/div/div[2]/div/div/div/div/button/div[2]/div/div/span').text\n",
    "        price_list.append(price)\n",
    "        br.quit() \n",
    "    except: price_list.append(np.nan), br.quit() \n",
    "    "
   ]
  },
  {
   "cell_type": "code",
   "execution_count": null,
   "metadata": {},
   "outputs": [],
   "source": [
    "avia['business_price'] = price_list\n",
    "avia['business_price'] = avia.business_price.str[:-2].str.split(' ').str.join('')\n",
    "avia['class_num'] = np.where(avia['class'] == 'Эконом', 0, 1)"
   ]
  },
  {
   "cell_type": "code",
   "execution_count": null,
   "metadata": {},
   "outputs": [],
   "source": [
    "from sklearn.linear_model import LinearRegression\n",
    "from sklearn.model_selection import train_test_split\n",
    "\n",
    "df_filter = avia[avia['price'] <= avia['price'].mean() + avia['price'].std() ].copy()"
   ]
  },
  {
   "cell_type": "code",
   "execution_count": null,
   "metadata": {},
   "outputs": [],
   "source": [
    "y = df_filter.price\n",
    "X = df_filter[['duration', 'class_num']]"
   ]
  },
  {
   "cell_type": "code",
   "execution_count": null,
   "metadata": {},
   "outputs": [],
   "source": [
    "X_tr, X_te, y_tr, y_te = train_test_split(X, y, test_size=0.3)\n",
    "model = LinearRegression()\n",
    "model.fit(X_tr, y_tr)"
   ]
  },
  {
   "cell_type": "code",
   "execution_count": null,
   "metadata": {},
   "outputs": [],
   "source": [
    "preds_tr = model.predict(X_tr)\n",
    "preds_te = model.predict(X_te)"
   ]
  },
  {
   "cell_type": "code",
   "execution_count": null,
   "metadata": {},
   "outputs": [],
   "source": [
    "from sklearn.metrics import mean_absolute_error\n",
    "\n",
    "print(mean_absolute_error(y_tr, preds_tr), mean_absolute_error(y_te, preds_te))"
   ]
  },
  {
   "cell_type": "code",
   "execution_count": null,
   "metadata": {
    "jupyter": {
     "source_hidden": true
    }
   },
   "outputs": [],
   "source": [
    "predicted_values = model.predict(avia.loc[avia.price.isnull()][['duration', 'class_num']])\n",
    "filler = pd.Series(predicted_values)"
   ]
  },
  {
   "cell_type": "code",
   "execution_count": null,
   "metadata": {
    "jupyter": {
     "source_hidden": true
    }
   },
   "outputs": [],
   "source": [
    "nan_df = avia.loc[avia.price.isna()]\n",
    "notnan = avia.loc[~avia.price.isna(), 'price']\n",
    "nan_df['business_price'] = list(filler)\n",
    "avia['new_price'] = pd.concat([nan_df['business_price'], notnan])"
   ]
  }
 ],
 "metadata": {
  "kernelspec": {
   "display_name": "Python 3",
   "language": "python",
   "name": "python3"
  },
  "language_info": {
   "codemirror_mode": {
    "name": "ipython",
    "version": 3
   },
   "file_extension": ".py",
   "mimetype": "text/x-python",
   "name": "python",
   "nbconvert_exporter": "python",
   "pygments_lexer": "ipython3",
   "version": "3.7.4"
  }
 },
 "nbformat": 4,
 "nbformat_minor": 4
}
