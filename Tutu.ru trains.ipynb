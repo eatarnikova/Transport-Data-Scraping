{
 "cells": [
  {
   "cell_type": "code",
   "execution_count": null,
   "metadata": {},
   "outputs": [],
   "source": [
    "from warnings import warn\n",
    "from statistics import mean\n",
    "from tqdm import tqdm\n",
    "import requests as reqs\n",
    "import numpy as np\n",
    "import pandas as pd"
   ]
  },
  {
   "cell_type": "markdown",
   "metadata": {},
   "source": [
    "Данные Tutu.ru - список железнодорожных станций отправления и прибытия:  \n",
    "https://support.travelpayouts.com/hc/ru/articles/115001440551-Данные-от-Tutu-ru"
   ]
  },
  {
   "cell_type": "code",
   "execution_count": null,
   "metadata": {},
   "outputs": [],
   "source": [
    "tutu_routes = pd.read_excel('tutu_routes.xlsx') #\n",
    "pairs = list(zip(tutu_routes.departure_station_id, tutu_routes.arrival_station_id))"
   ]
  },
  {
   "cell_type": "code",
   "execution_count": null,
   "metadata": {},
   "outputs": [],
   "source": [
    "def get_api_request(request: str, params: dict = {},):\n",
    "    \"\"\"Returns formatted request response\n",
    "    \"\"\"\n",
    "    REQUEST_BASE = \"https://suggest.travelpayouts.com/\"\n",
    "\n",
    "    request_form = f\"{REQUEST_BASE}/{request}?&service=tutu_trains\"\n",
    "\n",
    "    response = reqs.get(request_form, params=params)\n",
    "    if response.ok:\n",
    "        return response.json()\n",
    "    else:\n",
    "        response.raise_for_status()\n",
    "\n",
    "def get_trains_info(st1: str, st2: str):\n",
    "\n",
    "    request = 'search'\n",
    "    params = {\"term\": st1, \"term2\": st2}\n",
    "    return get_api_request(request, params)"
   ]
  },
  {
   "cell_type": "code",
   "execution_count": null,
   "metadata": {},
   "outputs": [],
   "source": [
    "\n",
    "errors = []\n",
    "time_list = []\n",
    "for pair in tqdm(pairs):\n",
    "    try:\n",
    "        scraped = get_trains_info(pair[0], pair[1])\n",
    "        trips_time = []\n",
    "        try:\n",
    "            for trip in scraped['trips']:\n",
    "                trips_time.append(int(trip['travelTimeInSeconds']))\n",
    "            time_list.append(mean(trips_time))\n",
    "        except: time_list.append(np.nan)\n",
    "    except: time_list.append(np.nan), errors.append(pair)"
   ]
  },
  {
   "cell_type": "code",
   "execution_count": null,
   "metadata": {},
   "outputs": [],
   "source": [
    "tutu_routes['time'] = time_list"
   ]
  },
  {
   "cell_type": "code",
   "execution_count": null,
   "metadata": {},
   "outputs": [],
   "source": [
    "tutu_routes.to_excel('routes.xlsx')"
   ]
  }
 ],
 "metadata": {
  "kernelspec": {
   "display_name": "Python 3",
   "language": "python",
   "name": "python3"
  },
  "language_info": {
   "codemirror_mode": {
    "name": "ipython",
    "version": 3
   },
   "file_extension": ".py",
   "mimetype": "text/x-python",
   "name": "python",
   "nbconvert_exporter": "python",
   "pygments_lexer": "ipython3",
   "version": "3.7.4"
  }
 },
 "nbformat": 4,
 "nbformat_minor": 4
}
